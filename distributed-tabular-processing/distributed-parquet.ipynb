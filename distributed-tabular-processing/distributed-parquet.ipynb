{
 "cells": [
  {
   "cell_type": "code",
   "execution_count": 1,
   "metadata": {},
   "outputs": [
    {
     "name": "stderr",
     "output_type": "stream",
     "text": [
      "/home/nfs/rzamora/miniconda3/envs/cudf_dev_sort/lib/python3.7/site-packages/numba/cuda/envvars.py:16: NumbaDeprecationWarning: \n",
      "Environment variables with the 'NUMBAPRO' prefix are deprecated, found use of NUMBAPRO_NVVM=/usr/local/cuda-9.2/nvvm/lib64/libnvvm.so.\n",
      "\n",
      "For more information visit http://numba.pydata.org/numba-doc/latest/reference/deprecation.html#deprecation-of-numbapro-environment-variables\n",
      "  warnings.warn(errors.NumbaDeprecationWarning(msg))\n",
      "/home/nfs/rzamora/miniconda3/envs/cudf_dev_sort/lib/python3.7/site-packages/numba/cuda/envvars.py:16: NumbaDeprecationWarning: \n",
      "Environment variables with the 'NUMBAPRO' prefix are deprecated, found use of NUMBAPRO_LIBDEVICE=/usr/local/cuda-9.2/nvvm/libdevice.\n",
      "\n",
      "For more information visit http://numba.pydata.org/numba-doc/latest/reference/deprecation.html#deprecation-of-numbapro-environment-variables\n",
      "  warnings.warn(errors.NumbaDeprecationWarning(msg))\n"
     ]
    }
   ],
   "source": [
    "import pandas as pd\n",
    "import numpy as np\n",
    "\n",
    "from dask.distributed import Client, wait\n",
    "import dask.dataframe as dd\n",
    "import dask_cudf\n",
    "import dask\n",
    "import cudf\n",
    "\n",
    "import shutil\n",
    "import time\n",
    "import os\n",
    "\n",
    "path = \"dummy_dataset.parquet\"\n",
    "random_seed = 42"
   ]
  },
  {
   "cell_type": "code",
   "execution_count": 2,
   "metadata": {},
   "outputs": [
    {
     "name": "stderr",
     "output_type": "stream",
     "text": [
      "/home/nfs/rzamora/miniconda3/envs/cudf_dev_sort/lib/python3.7/site-packages/distributed/dashboard/core.py:74: UserWarning: \n",
      "Port 8787 is already in use. \n",
      "Perhaps you already have a cluster running?\n",
      "Hosting the diagnostics dashboard on a random port instead.\n",
      "  warnings.warn(\"\\n\" + msg)\n"
     ]
    },
    {
     "data": {
      "text/html": [
       "<table style=\"border: 2px solid white;\">\n",
       "<tr>\n",
       "<td style=\"vertical-align: top; border: 0px solid white\">\n",
       "<h3>Client</h3>\n",
       "<ul>\n",
       "  <li><b>Scheduler: </b>tcp://127.0.0.1:35895\n",
       "  <li><b>Dashboard: </b><a href='http://127.0.0.1:34428/status' target='_blank'>http://127.0.0.1:34428/status</a>\n",
       "</ul>\n",
       "</td>\n",
       "<td style=\"vertical-align: top; border: 0px solid white\">\n",
       "<h3>Cluster</h3>\n",
       "<ul>\n",
       "  <li><b>Workers: </b>10</li>\n",
       "  <li><b>Cores: </b>80</li>\n",
       "  <li><b>Memory: </b>540.95 GB</li>\n",
       "</ul>\n",
       "</td>\n",
       "</tr>\n",
       "</table>"
      ],
      "text/plain": [
       "<Client: scheduler='tcp://127.0.0.1:35895' processes=10 cores=80>"
      ]
     },
     "execution_count": 2,
     "metadata": {},
     "output_type": "execute_result"
    }
   ],
   "source": [
    "from dask.distributed import LocalCluster\n",
    "\n",
    "cluster = LocalCluster()\n",
    "client = Client(cluster)\n",
    "client"
   ]
  },
  {
   "cell_type": "code",
   "execution_count": 3,
   "metadata": {},
   "outputs": [
    {
     "name": "stdout",
     "output_type": "stream",
     "text": [
      "time_create: 0.016566753387451172\n"
     ]
    }
   ],
   "source": [
    "# Start by creating a large dummy dataset\n",
    "# using Dask's internal `timeseries` example\n",
    "\n",
    "ts = time.time()\n",
    "ddf = dask.datasets.timeseries(\n",
    "    '1900', # Start year\n",
    "    '2001', # End year\n",
    "    freq='1M', # Note: Use '1S' to create a \"huge\" df (3152995200 rows)\n",
    "    partition_freq='1Y',\n",
    "    seed=random_seed,\n",
    "    dtypes={\n",
    "        'value': float,\n",
    "        'name': str,\n",
    "        'id10': int,\n",
    "        'id100': int,\n",
    "        'id1000': int,\n",
    "    },  # data types\n",
    "    id10_lam=10,  # control number of items in id column\n",
    "    id100_lam=100,  # control number of items in id column\n",
    "    id1000_lam=1000,  # control number of items in id column\n",
    ")\n",
    "time_create = time.time() - ts\n",
    "print(\"time_create:\",time_create)"
   ]
  },
  {
   "cell_type": "code",
   "execution_count": 4,
   "metadata": {},
   "outputs": [
    {
     "data": {
      "text/plain": [
       "100"
      ]
     },
     "execution_count": 4,
     "metadata": {},
     "output_type": "execute_result"
    }
   ],
   "source": [
    "ddf.npartitions"
   ]
  },
  {
   "cell_type": "code",
   "execution_count": 6,
   "metadata": {},
   "outputs": [
    {
     "name": "stdout",
     "output_type": "stream",
     "text": [
      "time_clean: 0.08587431907653809\n",
      "time_gen_and_write: 0.3599553108215332\n"
     ]
    }
   ],
   "source": [
    "# Use Dask's to_parquet to write data to a pyarrow-parquet \"dataset\"\n",
    "\n",
    "ts = time.time()\n",
    "if os.path.isdir(path):\n",
    "    shutil.rmtree(path)\n",
    "time_clean = time.time() - ts\n",
    "print(\"time_clean:\",time_clean)\n",
    "\n",
    "ts = time.time()\n",
    "ddf.to_parquet(path, write_index=False, engine=\"pyarrow\", append=True)\n",
    "time_gen_and_write = time.time() - ts\n",
    "print(\"time_gen_and_write:\",time_gen_and_write)"
   ]
  },
  {
   "cell_type": "code",
   "execution_count": 7,
   "metadata": {},
   "outputs": [
    {
     "name": "stdout",
     "output_type": "stream",
     "text": [
      "time_read_meta 0.22771191596984863\n"
     ]
    }
   ],
   "source": [
    "# Read back the parquet dataset on CPU `read_parquet`\n",
    "\n",
    "ts = time.time()\n",
    "ddf_read = dd.read_parquet(path, gather_statistics=True)\n",
    "time_read_meta = time.time() - ts\n",
    "print(\"time_read_meta\", time_read_meta)"
   ]
  },
  {
   "cell_type": "code",
   "execution_count": 8,
   "metadata": {},
   "outputs": [
    {
     "name": "stdout",
     "output_type": "stream",
     "text": [
      "time_get_mean_id100 0.4230837821960449\n",
      "mean 99.97333333333333\n"
     ]
    }
   ],
   "source": [
    "# Get Mean value from column 'id100'\n",
    "\n",
    "ts = time.time()\n",
    "mean = ddf_read['id100'].mean()\n",
    "mean = mean.compute()\n",
    "time_get_mean_id100 = time.time() - ts\n",
    "print(\"time_get_mean_id100\", time_get_mean_id100)\n",
    "print(\"mean\", mean)"
   ]
  },
  {
   "cell_type": "code",
   "execution_count": 9,
   "metadata": {},
   "outputs": [
    {
     "name": "stdout",
     "output_type": "stream",
     "text": [
      "time_set_index_id100 2.4437153339385986\n"
     ]
    }
   ],
   "source": [
    "# Set index to column `id100`\n",
    "\n",
    "ts = time.time()\n",
    "df = ddf_read.set_index('id100').compute()\n",
    "time_set_index_id100 = time.time() - ts\n",
    "print(\"time_set_index_id100\", time_set_index_id100)"
   ]
  },
  {
   "cell_type": "code",
   "execution_count": 10,
   "metadata": {},
   "outputs": [
    {
     "data": {
      "text/html": [
       "<div>\n",
       "<style scoped>\n",
       "    .dataframe tbody tr th:only-of-type {\n",
       "        vertical-align: middle;\n",
       "    }\n",
       "\n",
       "    .dataframe tbody tr th {\n",
       "        vertical-align: top;\n",
       "    }\n",
       "\n",
       "    .dataframe thead th {\n",
       "        text-align: right;\n",
       "    }\n",
       "</style>\n",
       "<table border=\"1\" class=\"dataframe\">\n",
       "  <thead>\n",
       "    <tr style=\"text-align: right;\">\n",
       "      <th></th>\n",
       "      <th>id10</th>\n",
       "      <th>id1000</th>\n",
       "      <th>name</th>\n",
       "      <th>value</th>\n",
       "    </tr>\n",
       "    <tr>\n",
       "      <th>id100</th>\n",
       "      <th></th>\n",
       "      <th></th>\n",
       "      <th></th>\n",
       "      <th></th>\n",
       "    </tr>\n",
       "  </thead>\n",
       "  <tbody>\n",
       "    <tr>\n",
       "      <th>64</th>\n",
       "      <td>13</td>\n",
       "      <td>1028</td>\n",
       "      <td>Ursula</td>\n",
       "      <td>0.348264</td>\n",
       "    </tr>\n",
       "    <tr>\n",
       "      <th>69</th>\n",
       "      <td>6</td>\n",
       "      <td>1070</td>\n",
       "      <td>Wendy</td>\n",
       "      <td>0.587983</td>\n",
       "    </tr>\n",
       "    <tr>\n",
       "      <th>70</th>\n",
       "      <td>7</td>\n",
       "      <td>938</td>\n",
       "      <td>Alice</td>\n",
       "      <td>0.768869</td>\n",
       "    </tr>\n",
       "    <tr>\n",
       "      <th>72</th>\n",
       "      <td>13</td>\n",
       "      <td>1028</td>\n",
       "      <td>Quinn</td>\n",
       "      <td>-0.828167</td>\n",
       "    </tr>\n",
       "    <tr>\n",
       "      <th>72</th>\n",
       "      <td>7</td>\n",
       "      <td>982</td>\n",
       "      <td>Kevin</td>\n",
       "      <td>-0.565578</td>\n",
       "    </tr>\n",
       "  </tbody>\n",
       "</table>\n",
       "</div>"
      ],
      "text/plain": [
       "       id10  id1000    name     value\n",
       "id100                                \n",
       "64       13    1028  Ursula  0.348264\n",
       "69        6    1070   Wendy  0.587983\n",
       "70        7     938   Alice  0.768869\n",
       "72       13    1028   Quinn -0.828167\n",
       "72        7     982   Kevin -0.565578"
      ]
     },
     "execution_count": 10,
     "metadata": {},
     "output_type": "execute_result"
    }
   ],
   "source": [
    "df.head()"
   ]
  },
  {
   "cell_type": "code",
   "execution_count": 11,
   "metadata": {},
   "outputs": [],
   "source": [
    "client.close()\n",
    "cluster.close()"
   ]
  },
  {
   "cell_type": "code",
   "execution_count": 2,
   "metadata": {},
   "outputs": [
    {
     "name": "stderr",
     "output_type": "stream",
     "text": [
      "/home/nfs/rzamora/miniconda3/envs/cudf_dev_sort/lib/python3.7/site-packages/distributed/dashboard/core.py:74: UserWarning: \n",
      "Port 8787 is already in use. \n",
      "Perhaps you already have a cluster running?\n",
      "Hosting the diagnostics dashboard on a random port instead.\n",
      "  warnings.warn(\"\\n\" + msg)\n"
     ]
    },
    {
     "data": {
      "text/html": [
       "<table style=\"border: 2px solid white;\">\n",
       "<tr>\n",
       "<td style=\"vertical-align: top; border: 0px solid white\">\n",
       "<h3>Client</h3>\n",
       "<ul>\n",
       "  <li><b>Scheduler: </b>tcp://127.0.0.1:40857\n",
       "  <li><b>Dashboard: </b><a href='http://127.0.0.1:41468/status' target='_blank'>http://127.0.0.1:41468/status</a>\n",
       "</ul>\n",
       "</td>\n",
       "<td style=\"vertical-align: top; border: 0px solid white\">\n",
       "<h3>Cluster</h3>\n",
       "<ul>\n",
       "  <li><b>Workers: </b>8</li>\n",
       "  <li><b>Cores: </b>8</li>\n",
       "  <li><b>Memory: </b>540.95 GB</li>\n",
       "</ul>\n",
       "</td>\n",
       "</tr>\n",
       "</table>"
      ],
      "text/plain": [
       "<Client: scheduler='tcp://127.0.0.1:40857' processes=8 cores=8>"
      ]
     },
     "execution_count": 2,
     "metadata": {},
     "output_type": "execute_result"
    }
   ],
   "source": [
    "from dask_cuda import LocalCUDACluster\n",
    "\n",
    "cluster = LocalCUDACluster()\n",
    "client = Client(cluster)\n",
    "client"
   ]
  },
  {
   "cell_type": "code",
   "execution_count": 3,
   "metadata": {},
   "outputs": [
    {
     "name": "stdout",
     "output_type": "stream",
     "text": [
      "time_read_meta_cudf 1.1809210777282715\n"
     ]
    }
   ],
   "source": [
    "# Read back the parquet dataset on GPUs `read_parquet`\n",
    "\n",
    "ts = time.time()\n",
    "gddf_read = dask_cudf.read_parquet(path, index=\"index\", gather_statistics=True)\n",
    "time_read_meta_cudf = time.time() - ts\n",
    "print(\"time_read_meta_cudf\", time_read_meta_cudf)"
   ]
  },
  {
   "cell_type": "code",
   "execution_count": 4,
   "metadata": {},
   "outputs": [
    {
     "name": "stdout",
     "output_type": "stream",
     "text": [
      "time_get_mean_id100_cudf 2.8839406967163086\n",
      "mean 99.97333333333333\n"
     ]
    }
   ],
   "source": [
    "# Get Mean value from column 'id100'\n",
    "\n",
    "ts = time.time()\n",
    "mean = gddf_read['id100'].mean()\n",
    "mean = mean.compute()\n",
    "time_get_mean_id100_cudf = time.time() - ts\n",
    "print(\"time_get_mean_id100_cudf\", time_get_mean_id100_cudf)\n",
    "print(\"mean\", mean)"
   ]
  },
  {
   "cell_type": "code",
   "execution_count": 5,
   "metadata": {},
   "outputs": [],
   "source": [
    "# # # ORIGINAL dask_cudf VERSION: Set index to column `id100`\n",
    "# # # !! SLOW !!\n",
    "\n",
    "# # ts = time.time()\n",
    "# # gdf = gddf_read.set_index('id100').compute()\n",
    "# # time_set_index_id100_cudf = time.time() - ts\n",
    "# # print(\"time_set_index_id100_cudf\", time_set_index_id100_cudf)\n",
    "\n",
    "# # NEW VERSION: Set index to column `id100`\n",
    "\n",
    "# ts = time.time()\n",
    "# gdf = dd.shuffle.set_index(gddf_read, 'id100').compute()\n",
    "# time_set_index_id100_cudf = time.time() - ts\n",
    "# print(\"time_set_index_id100_cudf\", time_set_index_id100_cudf)"
   ]
  },
  {
   "cell_type": "code",
   "execution_count": 6,
   "metadata": {},
   "outputs": [
    {
     "name": "stdout",
     "output_type": "stream",
     "text": [
      "   id10  id100  id1000    name                value\n",
      "0     9     97    1023   Kevin  0.05529776499610839\n",
      "1     8     98    1014   Quinn  -0.6427707370865254\n",
      "2     9    111     997   Frank  -0.3247053311901895\n",
      "3     8     97    1051   Edith  0.31809705969283963\n",
      "4     9    100     997  Ursula  -0.8289172566938443\n"
     ]
    }
   ],
   "source": [
    "# print(gdf.head())\n",
    "print(gddf_read.head())"
   ]
  },
  {
   "cell_type": "code",
   "execution_count": 7,
   "metadata": {},
   "outputs": [],
   "source": [
    "# Preprocess the dataframe on the GPUs\n",
    "from preproc import *\n",
    "\n",
    "to_cpu = False\n",
    "target = 'id10'\n",
    "cat_names = ['name']\n",
    "cont_names = ['value', 'id1000']\n",
    "proc = PreprocessDF(cat_names=cat_names, cont_names=cont_names, label_name=target, to_cpu=to_cpu)"
   ]
  },
  {
   "cell_type": "code",
   "execution_count": 8,
   "metadata": {},
   "outputs": [],
   "source": [
    "#print(gddf_read['name'].compute().hash_values().unique())"
   ]
  },
  {
   "cell_type": "code",
   "execution_count": 9,
   "metadata": {},
   "outputs": [],
   "source": [
    "#print(gddf_read['name'].unique().compute())"
   ]
  },
  {
   "cell_type": "code",
   "execution_count": 10,
   "metadata": {},
   "outputs": [],
   "source": [
    "#len(gddf_read['name'])"
   ]
  },
  {
   "cell_type": "code",
   "execution_count": 11,
   "metadata": {},
   "outputs": [
    {
     "ename": "TypeError",
     "evalue": "unhashable type: 'list'",
     "output_type": "error",
     "traceback": [
      "\u001b[0;31m---------------------------------------------------------------------------\u001b[0m",
      "\u001b[0;31mTypeError\u001b[0m                                 Traceback (most recent call last)",
      "\u001b[0;32m<ipython-input-11-bacd50697e11>\u001b[0m in \u001b[0;36m<module>\u001b[0;34m\u001b[0m\n\u001b[1;32m      1\u001b[0m \u001b[0;31m# x, y = proc.preproc_dataframe(gddf_read, mode='train')\u001b[0m\u001b[0;34m\u001b[0m\u001b[0;34m\u001b[0m\u001b[0;34m\u001b[0m\u001b[0m\n\u001b[0;32m----> 2\u001b[0;31m \u001b[0mgddf_read_cats\u001b[0m \u001b[0;34m=\u001b[0m \u001b[0mproc\u001b[0m\u001b[0;34m.\u001b[0m\u001b[0mpreproc_dataframe\u001b[0m\u001b[0;34m(\u001b[0m\u001b[0mdd\u001b[0m\u001b[0;34m.\u001b[0m\u001b[0mshuffle\u001b[0m\u001b[0;34m.\u001b[0m\u001b[0mset_index\u001b[0m\u001b[0;34m(\u001b[0m\u001b[0mgddf_read\u001b[0m\u001b[0;34m,\u001b[0m \u001b[0;34m'id100'\u001b[0m\u001b[0;34m)\u001b[0m\u001b[0;34m,\u001b[0m \u001b[0mmode\u001b[0m\u001b[0;34m=\u001b[0m\u001b[0;34m'train'\u001b[0m\u001b[0;34m)\u001b[0m\u001b[0;34m\u001b[0m\u001b[0;34m\u001b[0m\u001b[0m\n\u001b[0m",
      "\u001b[0;32m~/workspace/cudf-dask-devel/demo-dask-parquet-cudf/preproc.py\u001b[0m in \u001b[0;36mpreproc_dataframe\u001b[0;34m(self, gdf, mode)\u001b[0m\n\u001b[1;32m    117\u001b[0m         \u001b[0mself\u001b[0m\u001b[0;34m.\u001b[0m\u001b[0mmode\u001b[0m \u001b[0;34m=\u001b[0m \u001b[0mmode\u001b[0m\u001b[0;34m\u001b[0m\u001b[0;34m\u001b[0m\u001b[0m\n\u001b[1;32m    118\u001b[0m         \u001b[0mself\u001b[0m\u001b[0;34m.\u001b[0m\u001b[0mcategorify\u001b[0m\u001b[0;34m(\u001b[0m\u001b[0;34m)\u001b[0m\u001b[0;34m\u001b[0m\u001b[0;34m\u001b[0m\u001b[0m\n\u001b[0;32m--> 119\u001b[0;31m         \u001b[0mself\u001b[0m\u001b[0;34m.\u001b[0m\u001b[0mfill_missing\u001b[0m\u001b[0;34m(\u001b[0m\u001b[0;34m)\u001b[0m\u001b[0;34m\u001b[0m\u001b[0;34m\u001b[0m\u001b[0m\n\u001b[0m\u001b[1;32m    120\u001b[0m \u001b[0;34m\u001b[0m\u001b[0m\n\u001b[1;32m    121\u001b[0m         \u001b[0;32mreturn\u001b[0m \u001b[0mself\u001b[0m\u001b[0;34m.\u001b[0m\u001b[0mgdf\u001b[0m\u001b[0;34m\u001b[0m\u001b[0;34m\u001b[0m\u001b[0m\n",
      "\u001b[0;32m~/workspace/cudf-dask-devel/demo-dask-parquet-cudf/preproc.py\u001b[0m in \u001b[0;36mfill_missing\u001b[0;34m(self)\u001b[0m\n\u001b[1;32m    169\u001b[0m \u001b[0;34m\u001b[0m\u001b[0m\n\u001b[1;32m    170\u001b[0m             self.gdf[self.train_cont_names_na] = self.gdf[self.train_cont_names_na].map_partitions(\n\u001b[0;32m--> 171\u001b[0;31m                 \u001b[0m_fillify\u001b[0m\u001b[0;34m\u001b[0m\u001b[0;34m\u001b[0m\u001b[0m\n\u001b[0m\u001b[1;32m    172\u001b[0m             )\n\u001b[1;32m    173\u001b[0m \u001b[0;34m\u001b[0m\u001b[0m\n",
      "\u001b[0;32m~/workspace/cudf-dask-devel/dask/dask/dataframe/core.py\u001b[0m in \u001b[0;36m__setitem__\u001b[0;34m(self, key, value)\u001b[0m\n\u001b[1;32m   3276\u001b[0m             \u001b[0mdf\u001b[0m \u001b[0;34m=\u001b[0m \u001b[0mself\u001b[0m\u001b[0;34m.\u001b[0m\u001b[0massign\u001b[0m\u001b[0;34m(\u001b[0m\u001b[0;34m**\u001b[0m\u001b[0;34m{\u001b[0m\u001b[0mk\u001b[0m\u001b[0;34m:\u001b[0m \u001b[0mvalue\u001b[0m \u001b[0;32mfor\u001b[0m \u001b[0mk\u001b[0m \u001b[0;32min\u001b[0m \u001b[0mkey\u001b[0m\u001b[0;34m}\u001b[0m\u001b[0;34m)\u001b[0m\u001b[0;34m\u001b[0m\u001b[0;34m\u001b[0m\u001b[0m\n\u001b[1;32m   3277\u001b[0m         \u001b[0;32melse\u001b[0m\u001b[0;34m:\u001b[0m\u001b[0;34m\u001b[0m\u001b[0;34m\u001b[0m\u001b[0m\n\u001b[0;32m-> 3278\u001b[0;31m             \u001b[0mdf\u001b[0m \u001b[0;34m=\u001b[0m \u001b[0mself\u001b[0m\u001b[0;34m.\u001b[0m\u001b[0massign\u001b[0m\u001b[0;34m(\u001b[0m\u001b[0;34m**\u001b[0m\u001b[0;34m{\u001b[0m\u001b[0mkey\u001b[0m\u001b[0;34m:\u001b[0m \u001b[0mvalue\u001b[0m\u001b[0;34m}\u001b[0m\u001b[0;34m)\u001b[0m\u001b[0;34m\u001b[0m\u001b[0;34m\u001b[0m\u001b[0m\n\u001b[0m\u001b[1;32m   3279\u001b[0m \u001b[0;34m\u001b[0m\u001b[0m\n\u001b[1;32m   3280\u001b[0m         \u001b[0mself\u001b[0m\u001b[0;34m.\u001b[0m\u001b[0mdask\u001b[0m \u001b[0;34m=\u001b[0m \u001b[0mdf\u001b[0m\u001b[0;34m.\u001b[0m\u001b[0mdask\u001b[0m\u001b[0;34m\u001b[0m\u001b[0;34m\u001b[0m\u001b[0m\n",
      "\u001b[0;31mTypeError\u001b[0m: unhashable type: 'list'"
     ]
    }
   ],
   "source": [
    "# x, y = proc.preproc_dataframe(gddf_read, mode='train')\n",
    "gddf_read_cats = proc.preproc_dataframe(dd.shuffle.set_index(gddf_read, 'id100'), mode='train')"
   ]
  },
  {
   "cell_type": "code",
   "execution_count": 12,
   "metadata": {},
   "outputs": [
    {
     "name": "stdout",
     "output_type": "stream",
     "text": [
      "   id10  id1000         name                value\n",
      "64    13    1028   1805436790   0.3482640911798984\n",
      "69     6    1070  -1142878741   0.5879834987378125\n",
      "70     7     938  -1046842473   0.7688688828235088\n",
      "72    13    1028  -1538645396  -0.8281673384596697\n",
      "72     7     982    249248448  -0.5655781793142831\n"
     ]
    }
   ],
   "source": [
    "print(gddf_read_cats.head())"
   ]
  },
  {
   "cell_type": "code",
   "execution_count": 20,
   "metadata": {},
   "outputs": [
    {
     "name": "stdout",
     "output_type": "stream",
     "text": [
      "64    11\n",
      "69    13\n",
      "70     1\n",
      "72    10\n",
      "72     5\n",
      "73    14\n",
      "73     2\n",
      "74     6\n",
      "74     4\n",
      "74     4\n",
      "[1190 more rows]\n",
      "Name: name, dtype: int64\n"
     ]
    }
   ],
   "source": [
    "print(gddf_read_cats['name'].compute(scheduler='single-threaded'))"
   ]
  },
  {
   "cell_type": "code",
   "execution_count": 13,
   "metadata": {},
   "outputs": [
    {
     "name": "stdout",
     "output_type": "stream",
     "text": [
      "0   -2023749819\n",
      "1   -1723958038\n",
      "2   -1708607005\n",
      "3   -1538645396\n",
      "4   -1490803936\n",
      "5   -1403833033\n",
      "6   -1373745025\n",
      "7   -1142878741\n",
      "8   -1088933377\n",
      "9   -1046842473\n",
      "[16 more rows]\n",
      "Name: name, dtype: int64\n"
     ]
    }
   ],
   "source": [
    "print(gddf_read_cats['name'].compute().unique())"
   ]
  },
  {
   "cell_type": "code",
   "execution_count": 13,
   "metadata": {},
   "outputs": [],
   "source": [
    "client.close()\n",
    "cluster.close()"
   ]
  },
  {
   "cell_type": "code",
   "execution_count": null,
   "metadata": {},
   "outputs": [],
   "source": []
  }
 ],
 "metadata": {
  "kernelspec": {
   "display_name": "Python 3",
   "language": "python",
   "name": "python3"
  },
  "language_info": {
   "codemirror_mode": {
    "name": "ipython",
    "version": 3
   },
   "file_extension": ".py",
   "mimetype": "text/x-python",
   "name": "python",
   "nbconvert_exporter": "python",
   "pygments_lexer": "ipython3",
   "version": "3.7.3"
  }
 },
 "nbformat": 4,
 "nbformat_minor": 4
}
