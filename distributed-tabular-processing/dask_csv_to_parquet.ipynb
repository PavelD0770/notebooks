{
 "cells": [
  {
   "cell_type": "code",
   "execution_count": 1,
   "metadata": {},
   "outputs": [
    {
     "name": "stderr",
     "output_type": "stream",
     "text": [
      "/home/nfs/rzamora/miniconda3/envs/ucx/lib/python3.7/site-packages/numba/cuda/envvars.py:17: NumbaWarning: \n",
      "Environment variables with the 'NUMBAPRO' prefix are deprecated and consequently ignored, found use of NUMBAPRO_NVVM=/usr/local/cuda-10.1/nvvm/lib64/libnvvm.so.\n",
      "\n",
      "For more information about alternatives visit: ('http://numba.pydata.org/numba-doc/latest/cuda/overview.html', '#cudatoolkit-lookup')\n",
      "  warnings.warn(errors.NumbaWarning(msg))\n",
      "/home/nfs/rzamora/miniconda3/envs/ucx/lib/python3.7/site-packages/numba/cuda/envvars.py:17: NumbaWarning: \n",
      "Environment variables with the 'NUMBAPRO' prefix are deprecated and consequently ignored, found use of NUMBAPRO_LIBDEVICE=/usr/local/cuda-10.1/nvvm/libdevice.\n",
      "\n",
      "For more information about alternatives visit: ('http://numba.pydata.org/numba-doc/latest/cuda/overview.html', '#cudatoolkit-lookup')\n",
      "  warnings.warn(errors.NumbaWarning(msg))\n"
     ]
    }
   ],
   "source": [
    "from dask_cuda import LocalCUDACluster\n",
    "from dask.distributed import Client\n",
    "import dask_cudf\n",
    "import dask\n",
    "import cudf\n",
    "import glob\n",
    "\n",
    "data_path_in = \"/datasets/criteo/raw_csvs/split_train_data\"\n",
    "aggregate_files = True\n",
    "num_files = None # Set to None to read all files\n",
    "num_output_files = None\n",
    "row_group_size = None\n",
    "column_count = 40\n",
    "\n",
    "if aggregate_files:\n",
    "    data_path_out = \"/datasets/criteo/raw_csvs/split_train_data_parquet_agg\"\n",
    "    num_output_files = 1400\n",
    "    row_group_size = 2000000\n",
    "else:\n",
    "    data_path_out = \"/datasets/criteo/raw_csvs/split_train_data_parquet\""
   ]
  },
  {
   "cell_type": "markdown",
   "metadata": {},
   "source": [
    "### Create a cluster of GPU workers"
   ]
  },
  {
   "cell_type": "code",
   "execution_count": 2,
   "metadata": {},
   "outputs": [
    {
     "data": {
      "text/html": [
       "<table style=\"border: 2px solid white;\">\n",
       "<tr>\n",
       "<td style=\"vertical-align: top; border: 0px solid white\">\n",
       "<h3 style=\"text-align: left;\">Client</h3>\n",
       "<ul style=\"text-align: left; list-style: none; margin: 0; padding: 0;\">\n",
       "  <li><b>Scheduler: </b>tcp://127.0.0.1:41669</li>\n",
       "  <li><b>Dashboard: </b><a href='http://127.0.0.1:8787/status' target='_blank'>http://127.0.0.1:8787/status</a>\n",
       "</ul>\n",
       "</td>\n",
       "<td style=\"vertical-align: top; border: 0px solid white\">\n",
       "<h3 style=\"text-align: left;\">Cluster</h3>\n",
       "<ul style=\"text-align: left; list-style:none; margin: 0; padding: 0;\">\n",
       "  <li><b>Workers: </b>8</li>\n",
       "  <li><b>Cores: </b>8</li>\n",
       "  <li><b>Memory: </b>1.08 TB</li>\n",
       "</ul>\n",
       "</td>\n",
       "</tr>\n",
       "</table>"
      ],
      "text/plain": [
       "<Client: 'tcp://127.0.0.1:41669' processes=8 threads=8, memory=1.08 TB>"
      ]
     },
     "execution_count": 2,
     "metadata": {},
     "output_type": "execute_result"
    }
   ],
   "source": [
    "cluster = LocalCUDACluster(device_memory_limit=\"32GB\")\n",
    "client = Client(cluster)\n",
    "client"
   ]
  },
  {
   "cell_type": "markdown",
   "metadata": {},
   "source": [
    "### Read in Criteo Dataset, and Calculate Statistics"
   ]
  },
  {
   "cell_type": "code",
   "execution_count": 3,
   "metadata": {},
   "outputs": [],
   "source": [
    "files = glob.glob(data_path_in + \"/*\")\n",
    "if num_files and num_files < len(files):\n",
    "    files = files[:num_files]\n",
    "\n",
    "names = [\"Label\"] + [\"I\"+str(i+1) for i in range(13)] + [\"C\"+str(i+1) for i in range(26)]\n",
    "dtype = [\"int64\"] + [\"int64\" for i in range(13)] + [\"str\" for i in range(26)]\n",
    "ddf = dask_cudf.read_csv(files, delimiter=\"\\t\", dtype=dtype, names=names)\n",
    "if num_output_files:\n",
    "    ddf = ddf.repartition(npartitions=num_output_files)\n",
    "else:\n",
    "    row_group_size = None"
   ]
  },
  {
   "cell_type": "markdown",
   "metadata": {},
   "source": [
    "First, check the first few rows"
   ]
  },
  {
   "cell_type": "code",
   "execution_count": 4,
   "metadata": {},
   "outputs": [
    {
     "data": {
      "text/html": [
       "<div>\n",
       "<style scoped>\n",
       "    .dataframe tbody tr th:only-of-type {\n",
       "        vertical-align: middle;\n",
       "    }\n",
       "\n",
       "    .dataframe tbody tr th {\n",
       "        vertical-align: top;\n",
       "    }\n",
       "\n",
       "    .dataframe thead th {\n",
       "        text-align: right;\n",
       "    }\n",
       "</style>\n",
       "<table border=\"1\" class=\"dataframe\">\n",
       "  <thead>\n",
       "    <tr style=\"text-align: right;\">\n",
       "      <th></th>\n",
       "      <th>Label</th>\n",
       "      <th>I1</th>\n",
       "      <th>I2</th>\n",
       "      <th>I3</th>\n",
       "      <th>I4</th>\n",
       "      <th>I5</th>\n",
       "      <th>I6</th>\n",
       "      <th>I7</th>\n",
       "      <th>I8</th>\n",
       "      <th>I9</th>\n",
       "      <th>...</th>\n",
       "      <th>C17</th>\n",
       "      <th>C18</th>\n",
       "      <th>C19</th>\n",
       "      <th>C20</th>\n",
       "      <th>C21</th>\n",
       "      <th>C22</th>\n",
       "      <th>C23</th>\n",
       "      <th>C24</th>\n",
       "      <th>C25</th>\n",
       "      <th>C26</th>\n",
       "    </tr>\n",
       "  </thead>\n",
       "  <tbody>\n",
       "    <tr>\n",
       "      <th>0</th>\n",
       "      <td>1</td>\n",
       "      <td>5</td>\n",
       "      <td>110</td>\n",
       "      <td>null</td>\n",
       "      <td>16</td>\n",
       "      <td>null</td>\n",
       "      <td>1</td>\n",
       "      <td>0</td>\n",
       "      <td>14</td>\n",
       "      <td>7</td>\n",
       "      <td>...</td>\n",
       "      <td>d20856aa</td>\n",
       "      <td>b8170bba</td>\n",
       "      <td>9512c20b</td>\n",
       "      <td>c38e2f28</td>\n",
       "      <td>14f65a5d</td>\n",
       "      <td>25b1b089</td>\n",
       "      <td>d7c1fc0b</td>\n",
       "      <td>7caf609c</td>\n",
       "      <td>30436bfc</td>\n",
       "      <td>ed10571d</td>\n",
       "    </tr>\n",
       "    <tr>\n",
       "      <th>1</th>\n",
       "      <td>0</td>\n",
       "      <td>32</td>\n",
       "      <td>3</td>\n",
       "      <td>5</td>\n",
       "      <td>null</td>\n",
       "      <td>1</td>\n",
       "      <td>0</td>\n",
       "      <td>0</td>\n",
       "      <td>61</td>\n",
       "      <td>5</td>\n",
       "      <td>...</td>\n",
       "      <td>d20856aa</td>\n",
       "      <td>a1eb1511</td>\n",
       "      <td>9512c20b</td>\n",
       "      <td>febfd863</td>\n",
       "      <td>a3323ca1</td>\n",
       "      <td>c8e1ee56</td>\n",
       "      <td>1752e9e8</td>\n",
       "      <td>75350c8a</td>\n",
       "      <td>991321ea</td>\n",
       "      <td>b757e957</td>\n",
       "    </tr>\n",
       "    <tr>\n",
       "      <th>2</th>\n",
       "      <td>0</td>\n",
       "      <td>null</td>\n",
       "      <td>233</td>\n",
       "      <td>1</td>\n",
       "      <td>146</td>\n",
       "      <td>1</td>\n",
       "      <td>0</td>\n",
       "      <td>0</td>\n",
       "      <td>99</td>\n",
       "      <td>7</td>\n",
       "      <td>...</td>\n",
       "      <td>d20856aa</td>\n",
       "      <td>628f1b8d</td>\n",
       "      <td>9512c20b</td>\n",
       "      <td>c38e2f28</td>\n",
       "      <td>14f65a5d</td>\n",
       "      <td>25b1b089</td>\n",
       "      <td>d7c1fc0b</td>\n",
       "      <td>34a9b905</td>\n",
       "      <td>ff654802</td>\n",
       "      <td>ed10571d</td>\n",
       "    </tr>\n",
       "    <tr>\n",
       "      <th>3</th>\n",
       "      <td>0</td>\n",
       "      <td>null</td>\n",
       "      <td>24</td>\n",
       "      <td>null</td>\n",
       "      <td>11</td>\n",
       "      <td>24</td>\n",
       "      <td>null</td>\n",
       "      <td>0</td>\n",
       "      <td>56</td>\n",
       "      <td>3</td>\n",
       "      <td>...</td>\n",
       "      <td>1f7fc70b</td>\n",
       "      <td>a1eb1511</td>\n",
       "      <td>9512c20b</td>\n",
       "      <td>None</td>\n",
       "      <td>None</td>\n",
       "      <td>None</td>\n",
       "      <td>dc209cd3</td>\n",
       "      <td>b8a81fb0</td>\n",
       "      <td>30436bfc</td>\n",
       "      <td>b757e957</td>\n",
       "    </tr>\n",
       "    <tr>\n",
       "      <th>4</th>\n",
       "      <td>0</td>\n",
       "      <td>60</td>\n",
       "      <td>223</td>\n",
       "      <td>6</td>\n",
       "      <td>15</td>\n",
       "      <td>5</td>\n",
       "      <td>0</td>\n",
       "      <td>0</td>\n",
       "      <td>1</td>\n",
       "      <td>8</td>\n",
       "      <td>...</td>\n",
       "      <td>d20856aa</td>\n",
       "      <td>d9f758ff</td>\n",
       "      <td>9512c20b</td>\n",
       "      <td>c709ec07</td>\n",
       "      <td>2b07677e</td>\n",
       "      <td>a89a92a5</td>\n",
       "      <td>aa137169</td>\n",
       "      <td>e619743b</td>\n",
       "      <td>cdc3217e</td>\n",
       "      <td>ed10571d</td>\n",
       "    </tr>\n",
       "  </tbody>\n",
       "</table>\n",
       "<p>5 rows × 40 columns</p>\n",
       "</div>"
      ],
      "text/plain": [
       "   Label    I1   I2    I3    I4    I5    I6  I7  I8  I9  ...       C17  \\\n",
       "0      1     5  110  null    16  null     1   0  14   7  ...  d20856aa   \n",
       "1      0    32    3     5  null     1     0   0  61   5  ...  d20856aa   \n",
       "2      0  null  233     1   146     1     0   0  99   7  ...  d20856aa   \n",
       "3      0  null   24  null    11    24  null   0  56   3  ...  1f7fc70b   \n",
       "4      0    60  223     6    15     5     0   0   1   8  ...  d20856aa   \n",
       "\n",
       "        C18       C19       C20       C21       C22       C23       C24  \\\n",
       "0  b8170bba  9512c20b  c38e2f28  14f65a5d  25b1b089  d7c1fc0b  7caf609c   \n",
       "1  a1eb1511  9512c20b  febfd863  a3323ca1  c8e1ee56  1752e9e8  75350c8a   \n",
       "2  628f1b8d  9512c20b  c38e2f28  14f65a5d  25b1b089  d7c1fc0b  34a9b905   \n",
       "3  a1eb1511  9512c20b      None      None      None  dc209cd3  b8a81fb0   \n",
       "4  d9f758ff  9512c20b  c709ec07  2b07677e  a89a92a5  aa137169  e619743b   \n",
       "\n",
       "        C25       C26  \n",
       "0  30436bfc  ed10571d  \n",
       "1  991321ea  b757e957  \n",
       "2  ff654802  ed10571d  \n",
       "3  30436bfc  b757e957  \n",
       "4  cdc3217e  ed10571d  \n",
       "\n",
       "[5 rows x 40 columns]"
      ]
     },
     "execution_count": 4,
     "metadata": {},
     "output_type": "execute_result"
    }
   ],
   "source": [
    "ddf.head()"
   ]
  },
  {
   "cell_type": "markdown",
   "metadata": {},
   "source": [
    "Convert csv files to parquet files"
   ]
  },
  {
   "cell_type": "code",
   "execution_count": 5,
   "metadata": {},
   "outputs": [
    {
     "name": "stdout",
     "output_type": "stream",
     "text": [
      "CPU times: user 7min 17s, sys: 31.2 s, total: 7min 48s\n",
      "Wall time: 57min 21s\n"
     ]
    }
   ],
   "source": [
    "%time ddf.to_parquet(data_path_out, row_group_size=row_group_size)"
   ]
  },
  {
   "cell_type": "code",
   "execution_count": null,
   "metadata": {},
   "outputs": [],
   "source": []
  }
 ],
 "metadata": {
  "kernelspec": {
   "display_name": "Python 3",
   "language": "python",
   "name": "python3"
  },
  "language_info": {
   "codemirror_mode": {
    "name": "ipython",
    "version": 3
   },
   "file_extension": ".py",
   "mimetype": "text/x-python",
   "name": "python",
   "nbconvert_exporter": "python",
   "pygments_lexer": "ipython3",
   "version": "3.7.3"
  }
 },
 "nbformat": 4,
 "nbformat_minor": 4
}
