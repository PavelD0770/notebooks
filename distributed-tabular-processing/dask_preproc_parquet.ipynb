{
 "cells": [
  {
   "cell_type": "code",
   "execution_count": 1,
   "metadata": {},
   "outputs": [
    {
     "name": "stderr",
     "output_type": "stream",
     "text": [
      "/home/nfs/rzamora/miniconda3/envs/ucx/lib/python3.7/site-packages/numba/cuda/envvars.py:17: NumbaWarning: \n",
      "Environment variables with the 'NUMBAPRO' prefix are deprecated and consequently ignored, found use of NUMBAPRO_NVVM=/usr/local/cuda-10.1/nvvm/lib64/libnvvm.so.\n",
      "\n",
      "For more information about alternatives visit: ('http://numba.pydata.org/numba-doc/latest/cuda/overview.html', '#cudatoolkit-lookup')\n",
      "  warnings.warn(errors.NumbaWarning(msg))\n",
      "/home/nfs/rzamora/miniconda3/envs/ucx/lib/python3.7/site-packages/numba/cuda/envvars.py:17: NumbaWarning: \n",
      "Environment variables with the 'NUMBAPRO' prefix are deprecated and consequently ignored, found use of NUMBAPRO_LIBDEVICE=/usr/local/cuda-10.1/nvvm/libdevice.\n",
      "\n",
      "For more information about alternatives visit: ('http://numba.pydata.org/numba-doc/latest/cuda/overview.html', '#cudatoolkit-lookup')\n",
      "  warnings.warn(errors.NumbaWarning(msg))\n"
     ]
    }
   ],
   "source": [
    "from dask_cuda import LocalCUDACluster\n",
    "from dask.distributed import Client\n",
    "import dask_cudf\n",
    "import dask\n",
    "import cudf\n",
    "import glob\n",
    "\n",
    "\n",
    "use_agg = True\n",
    "if use_agg:\n",
    "    data_path = \"/datasets/criteo/raw_csvs/split_train_data_parquet_agg\"\n",
    "else:\n",
    "    data_path = \"/datasets/criteo/raw_csvs/split_train_data_parquet\""
   ]
  },
  {
   "cell_type": "markdown",
   "metadata": {},
   "source": [
    "### Create a cluster of GPU workers"
   ]
  },
  {
   "cell_type": "code",
   "execution_count": 2,
   "metadata": {},
   "outputs": [
    {
     "data": {
      "text/html": [
       "<table style=\"border: 2px solid white;\">\n",
       "<tr>\n",
       "<td style=\"vertical-align: top; border: 0px solid white\">\n",
       "<h3 style=\"text-align: left;\">Client</h3>\n",
       "<ul style=\"text-align: left; list-style: none; margin: 0; padding: 0;\">\n",
       "  <li><b>Scheduler: </b>tcp://127.0.0.1:37183</li>\n",
       "  <li><b>Dashboard: </b><a href='http://127.0.0.1:8787/status' target='_blank'>http://127.0.0.1:8787/status</a>\n",
       "</ul>\n",
       "</td>\n",
       "<td style=\"vertical-align: top; border: 0px solid white\">\n",
       "<h3 style=\"text-align: left;\">Cluster</h3>\n",
       "<ul style=\"text-align: left; list-style:none; margin: 0; padding: 0;\">\n",
       "  <li><b>Workers: </b>8</li>\n",
       "  <li><b>Cores: </b>8</li>\n",
       "  <li><b>Memory: </b>1.08 TB</li>\n",
       "</ul>\n",
       "</td>\n",
       "</tr>\n",
       "</table>"
      ],
      "text/plain": [
       "<Client: 'tcp://127.0.0.1:37183' processes=8 threads=8, memory=1.08 TB>"
      ]
     },
     "execution_count": 2,
     "metadata": {},
     "output_type": "execute_result"
    }
   ],
   "source": [
    "cluster = LocalCUDACluster(device_memory_limit=\"32GB\")\n",
    "client = Client(cluster)\n",
    "client"
   ]
  },
  {
   "cell_type": "markdown",
   "metadata": {},
   "source": [
    "### Read in Criteo Dataset, and Calculate Statistics"
   ]
  },
  {
   "cell_type": "code",
   "execution_count": 3,
   "metadata": {},
   "outputs": [
    {
     "name": "stdout",
     "output_type": "stream",
     "text": [
      "CPU times: user 22.4 s, sys: 1.86 s, total: 24.2 s\n",
      "Wall time: 22.2 s\n"
     ]
    }
   ],
   "source": [
    "chunksize=None\n",
    "if use_agg:\n",
    "    chunksize=\"250 MB\"\n",
    "%time ddf = dask_cudf.read_parquet(data_path, chunksize=chunksize, gather_statistics=True)"
   ]
  },
  {
   "cell_type": "markdown",
   "metadata": {},
   "source": [
    "**Non-Aggregated:**\n",
    "```\n",
    "CPU times: user 35.8 s, sys: 2.28 s, total: 38.1 s\n",
    "Wall time: 34.2 s\n",
    "```"
   ]
  },
  {
   "cell_type": "markdown",
   "metadata": {},
   "source": [
    "First, check the first few rows"
   ]
  },
  {
   "cell_type": "code",
   "execution_count": 4,
   "metadata": {},
   "outputs": [
    {
     "name": "stdout",
     "output_type": "stream",
     "text": [
      "CPU times: user 252 ms, sys: 61.4 ms, total: 314 ms\n",
      "Wall time: 4.08 s\n"
     ]
    },
    {
     "data": {
      "text/html": [
       "<div>\n",
       "<style scoped>\n",
       "    .dataframe tbody tr th:only-of-type {\n",
       "        vertical-align: middle;\n",
       "    }\n",
       "\n",
       "    .dataframe tbody tr th {\n",
       "        vertical-align: top;\n",
       "    }\n",
       "\n",
       "    .dataframe thead th {\n",
       "        text-align: right;\n",
       "    }\n",
       "</style>\n",
       "<table border=\"1\" class=\"dataframe\">\n",
       "  <thead>\n",
       "    <tr style=\"text-align: right;\">\n",
       "      <th></th>\n",
       "      <th>Label</th>\n",
       "      <th>I1</th>\n",
       "      <th>I2</th>\n",
       "      <th>I3</th>\n",
       "      <th>I4</th>\n",
       "      <th>I5</th>\n",
       "      <th>I6</th>\n",
       "      <th>I7</th>\n",
       "      <th>I8</th>\n",
       "      <th>I9</th>\n",
       "      <th>...</th>\n",
       "      <th>C17</th>\n",
       "      <th>C18</th>\n",
       "      <th>C19</th>\n",
       "      <th>C20</th>\n",
       "      <th>C21</th>\n",
       "      <th>C22</th>\n",
       "      <th>C23</th>\n",
       "      <th>C24</th>\n",
       "      <th>C25</th>\n",
       "      <th>C26</th>\n",
       "    </tr>\n",
       "    <tr>\n",
       "      <th>index</th>\n",
       "      <th></th>\n",
       "      <th></th>\n",
       "      <th></th>\n",
       "      <th></th>\n",
       "      <th></th>\n",
       "      <th></th>\n",
       "      <th></th>\n",
       "      <th></th>\n",
       "      <th></th>\n",
       "      <th></th>\n",
       "      <th></th>\n",
       "      <th></th>\n",
       "      <th></th>\n",
       "      <th></th>\n",
       "      <th></th>\n",
       "      <th></th>\n",
       "      <th></th>\n",
       "      <th></th>\n",
       "      <th></th>\n",
       "      <th></th>\n",
       "      <th></th>\n",
       "    </tr>\n",
       "  </thead>\n",
       "  <tbody>\n",
       "    <tr>\n",
       "      <th>0</th>\n",
       "      <td>1</td>\n",
       "      <td>5</td>\n",
       "      <td>110</td>\n",
       "      <td>null</td>\n",
       "      <td>16</td>\n",
       "      <td>null</td>\n",
       "      <td>1</td>\n",
       "      <td>0</td>\n",
       "      <td>14</td>\n",
       "      <td>7</td>\n",
       "      <td>...</td>\n",
       "      <td>d20856aa</td>\n",
       "      <td>b8170bba</td>\n",
       "      <td>9512c20b</td>\n",
       "      <td>c38e2f28</td>\n",
       "      <td>14f65a5d</td>\n",
       "      <td>25b1b089</td>\n",
       "      <td>d7c1fc0b</td>\n",
       "      <td>7caf609c</td>\n",
       "      <td>30436bfc</td>\n",
       "      <td>ed10571d</td>\n",
       "    </tr>\n",
       "    <tr>\n",
       "      <th>1</th>\n",
       "      <td>0</td>\n",
       "      <td>32</td>\n",
       "      <td>3</td>\n",
       "      <td>5</td>\n",
       "      <td>null</td>\n",
       "      <td>1</td>\n",
       "      <td>0</td>\n",
       "      <td>0</td>\n",
       "      <td>61</td>\n",
       "      <td>5</td>\n",
       "      <td>...</td>\n",
       "      <td>d20856aa</td>\n",
       "      <td>a1eb1511</td>\n",
       "      <td>9512c20b</td>\n",
       "      <td>febfd863</td>\n",
       "      <td>a3323ca1</td>\n",
       "      <td>c8e1ee56</td>\n",
       "      <td>1752e9e8</td>\n",
       "      <td>75350c8a</td>\n",
       "      <td>991321ea</td>\n",
       "      <td>b757e957</td>\n",
       "    </tr>\n",
       "    <tr>\n",
       "      <th>2</th>\n",
       "      <td>0</td>\n",
       "      <td>null</td>\n",
       "      <td>233</td>\n",
       "      <td>1</td>\n",
       "      <td>146</td>\n",
       "      <td>1</td>\n",
       "      <td>0</td>\n",
       "      <td>0</td>\n",
       "      <td>99</td>\n",
       "      <td>7</td>\n",
       "      <td>...</td>\n",
       "      <td>d20856aa</td>\n",
       "      <td>628f1b8d</td>\n",
       "      <td>9512c20b</td>\n",
       "      <td>c38e2f28</td>\n",
       "      <td>14f65a5d</td>\n",
       "      <td>25b1b089</td>\n",
       "      <td>d7c1fc0b</td>\n",
       "      <td>34a9b905</td>\n",
       "      <td>ff654802</td>\n",
       "      <td>ed10571d</td>\n",
       "    </tr>\n",
       "    <tr>\n",
       "      <th>3</th>\n",
       "      <td>0</td>\n",
       "      <td>null</td>\n",
       "      <td>24</td>\n",
       "      <td>null</td>\n",
       "      <td>11</td>\n",
       "      <td>24</td>\n",
       "      <td>null</td>\n",
       "      <td>0</td>\n",
       "      <td>56</td>\n",
       "      <td>3</td>\n",
       "      <td>...</td>\n",
       "      <td>1f7fc70b</td>\n",
       "      <td>a1eb1511</td>\n",
       "      <td>9512c20b</td>\n",
       "      <td>None</td>\n",
       "      <td>None</td>\n",
       "      <td>None</td>\n",
       "      <td>dc209cd3</td>\n",
       "      <td>b8a81fb0</td>\n",
       "      <td>30436bfc</td>\n",
       "      <td>b757e957</td>\n",
       "    </tr>\n",
       "    <tr>\n",
       "      <th>4</th>\n",
       "      <td>0</td>\n",
       "      <td>60</td>\n",
       "      <td>223</td>\n",
       "      <td>6</td>\n",
       "      <td>15</td>\n",
       "      <td>5</td>\n",
       "      <td>0</td>\n",
       "      <td>0</td>\n",
       "      <td>1</td>\n",
       "      <td>8</td>\n",
       "      <td>...</td>\n",
       "      <td>d20856aa</td>\n",
       "      <td>d9f758ff</td>\n",
       "      <td>9512c20b</td>\n",
       "      <td>c709ec07</td>\n",
       "      <td>2b07677e</td>\n",
       "      <td>a89a92a5</td>\n",
       "      <td>aa137169</td>\n",
       "      <td>e619743b</td>\n",
       "      <td>cdc3217e</td>\n",
       "      <td>ed10571d</td>\n",
       "    </tr>\n",
       "  </tbody>\n",
       "</table>\n",
       "<p>5 rows × 40 columns</p>\n",
       "</div>"
      ],
      "text/plain": [
       "       Label    I1   I2    I3    I4    I5    I6  I7  I8  I9  ...       C17  \\\n",
       "index                                                        ...             \n",
       "0          1     5  110  null    16  null     1   0  14   7  ...  d20856aa   \n",
       "1          0    32    3     5  null     1     0   0  61   5  ...  d20856aa   \n",
       "2          0  null  233     1   146     1     0   0  99   7  ...  d20856aa   \n",
       "3          0  null   24  null    11    24  null   0  56   3  ...  1f7fc70b   \n",
       "4          0    60  223     6    15     5     0   0   1   8  ...  d20856aa   \n",
       "\n",
       "            C18       C19       C20       C21       C22       C23       C24  \\\n",
       "index                                                                         \n",
       "0      b8170bba  9512c20b  c38e2f28  14f65a5d  25b1b089  d7c1fc0b  7caf609c   \n",
       "1      a1eb1511  9512c20b  febfd863  a3323ca1  c8e1ee56  1752e9e8  75350c8a   \n",
       "2      628f1b8d  9512c20b  c38e2f28  14f65a5d  25b1b089  d7c1fc0b  34a9b905   \n",
       "3      a1eb1511  9512c20b      None      None      None  dc209cd3  b8a81fb0   \n",
       "4      d9f758ff  9512c20b  c709ec07  2b07677e  a89a92a5  aa137169  e619743b   \n",
       "\n",
       "            C25       C26  \n",
       "index                      \n",
       "0      30436bfc  ed10571d  \n",
       "1      991321ea  b757e957  \n",
       "2      ff654802  ed10571d  \n",
       "3      30436bfc  b757e957  \n",
       "4      cdc3217e  ed10571d  \n",
       "\n",
       "[5 rows x 40 columns]"
      ]
     },
     "execution_count": 4,
     "metadata": {},
     "output_type": "execute_result"
    }
   ],
   "source": [
    "%time ddf.head()"
   ]
  },
  {
   "cell_type": "markdown",
   "metadata": {},
   "source": [
    "Specify the continuous and categorical columns"
   ]
  },
  {
   "cell_type": "code",
   "execution_count": 5,
   "metadata": {},
   "outputs": [],
   "source": [
    "cont_cols = [\"I\"+str(i+1) for i in range(13)]\n",
    "cat_cols = [\"C\"+str(i+1) for i in range(26)]"
   ]
  },
  {
   "cell_type": "markdown",
   "metadata": {},
   "source": [
    "**Time-Consuming Part:** Compute the statistics over the entire dataset (using `ddf.describe`)"
   ]
  },
  {
   "cell_type": "code",
   "execution_count": 6,
   "metadata": {},
   "outputs": [
    {
     "name": "stderr",
     "output_type": "stream",
     "text": [
      "distributed.comm.tcp - WARNING - Closing dangling stream in <TCP  local=tcp://127.0.0.1:55554 remote=tcp://127.0.0.1:37183>\n",
      "distributed.comm.tcp - WARNING - Closing dangling stream in <TCP  local=tcp://127.0.0.1:55764 remote=tcp://127.0.0.1:37183>\n"
     ]
    },
    {
     "name": "stdout",
     "output_type": "stream",
     "text": [
      "CPU times: user 3min 53s, sys: 20.4 s, total: 4min 13s\n",
      "Wall time: 21min 27s\n"
     ]
    }
   ],
   "source": [
    "stats = ddf[cont_cols].describe(percentiles=[0.5])\n",
    "%time computed_stats = dask.compute(stats)[0]"
   ]
  },
  {
   "cell_type": "markdown",
   "metadata": {},
   "source": [
    "**Non-Aggregated** Result:\n",
    "```\n",
    "CPU times: user 8min 47s, sys: 33.9 s, total: 9min 21s\n",
    "Wall time: 30min\n",
    "```"
   ]
  },
  {
   "cell_type": "code",
   "execution_count": 7,
   "metadata": {},
   "outputs": [],
   "source": [
    "median = computed_stats.loc[\"50%\"].iloc[1:]\n",
    "mean = computed_stats.loc[\"mean\"].iloc[0]\n",
    "std = computed_stats.loc[\"std\"].iloc[0]\n",
    "count = computed_stats.loc[\"count\"].iloc[0]\n",
    "mins = computed_stats.loc[\"min\"].iloc[0]\n",
    "maxes = computed_stats.loc[\"max\"].iloc[0]"
   ]
  },
  {
   "cell_type": "code",
   "execution_count": 8,
   "metadata": {},
   "outputs": [
    {
     "data": {
      "text/plain": [
       "I1       10.0\n",
       "I10       0.0\n",
       "I11       2.0\n",
       "I12    4194.0\n",
       "I13       5.0\n",
       "I2      224.0\n",
       "I3        4.0\n",
       "I4       39.0\n",
       "I5        6.0\n",
       "I6        0.0\n",
       "I7        0.0\n",
       "I8        9.0\n",
       "I9        7.0\n",
       "Name: 50%, dtype: object"
      ]
     },
     "execution_count": 8,
     "metadata": {},
     "output_type": "execute_result"
    }
   ],
   "source": [
    "median"
   ]
  },
  {
   "cell_type": "markdown",
   "metadata": {},
   "source": [
    "**Non-Aggregated median**:\n",
    "```\n",
    "I1       10.0\n",
    "I10       0.0\n",
    "I11       2.0\n",
    "I12    6299.0\n",
    "I13       5.0\n",
    "I2      225.0\n",
    "I3        4.0\n",
    "I4       39.0\n",
    "I5        6.0\n",
    "I6        0.0\n",
    "I7        0.0\n",
    "I8        9.0\n",
    "I9        7.0\n",
    "Name: 50%, dtype: object\n",
    "```"
   ]
  },
  {
   "cell_type": "code",
   "execution_count": 9,
   "metadata": {},
   "outputs": [
    {
     "data": {
      "text/plain": [
       "I1        34.387808\n",
       "I2       417.565493\n",
       "I3         7.196818\n",
       "I4       127.777254\n",
       "I5        22.602954\n",
       "I6         1.719371\n",
       "I7         0.161513\n",
       "I8       112.786085\n",
       "I9         9.704844\n",
       "I10        0.298463\n",
       "I11        4.119612\n",
       "I12    21324.027288\n",
       "I13        8.947549\n",
       "dtype: float64"
      ]
     },
     "execution_count": 9,
     "metadata": {},
     "output_type": "execute_result"
    }
   ],
   "source": [
    "mean"
   ]
  },
  {
   "cell_type": "markdown",
   "metadata": {},
   "source": [
    "**Non-Aggregated mean**:\n",
    "```\n",
    "I1        34.387808\n",
    "I2       417.565493\n",
    "I3         7.196818\n",
    "I4       127.777254\n",
    "I5        22.602954\n",
    "I6         1.719371\n",
    "I7         0.161513\n",
    "I8       112.786085\n",
    "I9         9.704844\n",
    "I10        0.298463\n",
    "I11        4.119612\n",
    "I12    21324.027288\n",
    "I13        8.947549\n",
    "dtype: float64\n",
    "```"
   ]
  },
  {
   "cell_type": "code",
   "execution_count": 10,
   "metadata": {},
   "outputs": [
    {
     "data": {
      "text/plain": [
       "I1       460.496390\n",
       "I2       689.674436\n",
       "I3         9.828270\n",
       "I4       615.158633\n",
       "I5        81.441234\n",
       "I6        21.590568\n",
       "I7         2.059838\n",
       "I8       391.429545\n",
       "I9        16.212257\n",
       "I10        0.569462\n",
       "I11        7.121497\n",
       "I12    35096.394381\n",
       "I13       22.055694\n",
       "dtype: float64"
      ]
     },
     "execution_count": 10,
     "metadata": {},
     "output_type": "execute_result"
    }
   ],
   "source": [
    "std"
   ]
  },
  {
   "cell_type": "markdown",
   "metadata": {},
   "source": [
    "**Non-Aggregated std**:\n",
    "```\n",
    "I1       460.496390\n",
    "I2       689.674436\n",
    "I3         9.828270\n",
    "I4       615.158633\n",
    "I5        81.441234\n",
    "I6        21.590568\n",
    "I7         2.059838\n",
    "I8       391.429545\n",
    "I9        16.212257\n",
    "I10        0.569462\n",
    "I11        7.121497\n",
    "I12    35096.394381\n",
    "I13       22.055694\n",
    "dtype: float64\n",
    "```"
   ]
  },
  {
   "cell_type": "code",
   "execution_count": 11,
   "metadata": {},
   "outputs": [
    {
     "data": {
      "text/plain": [
       "I1     3408640361\n",
       "I2     3779087859\n",
       "I3     3162206758\n",
       "I4     2748262732\n",
       "I5     2484922855\n",
       "I6     3829411492\n",
       "I7     4073075259\n",
       "I8     4195197692\n",
       "I9     4195197691\n",
       "I10    3829411492\n",
       "I11    2484922855\n",
       "I12    4124955977\n",
       "I13    3162206758\n",
       "dtype: int64"
      ]
     },
     "execution_count": 11,
     "metadata": {},
     "output_type": "execute_result"
    }
   ],
   "source": [
    "count"
   ]
  },
  {
   "cell_type": "markdown",
   "metadata": {},
   "source": [
    "**Non-Aggregated std**:\n",
    "```\n",
    "I1     3408640361\n",
    "I2     3779087859\n",
    "I3     3162206758\n",
    "I4     2748262732\n",
    "I5     2484922855\n",
    "I6     3829411492\n",
    "I7     4073075259\n",
    "I8     4195197692\n",
    "I9     4195197691\n",
    "I10    3829411492\n",
    "I11    2484922855\n",
    "I12    4124955977\n",
    "I13    3162206758\n",
    "dtype: int64\n",
    "```"
   ]
  },
  {
   "cell_type": "code",
   "execution_count": 12,
   "metadata": {},
   "outputs": [
    {
     "data": {
      "text/plain": [
       "I1     1\n",
       "I2     1\n",
       "I3     0\n",
       "I4     0\n",
       "I5     1\n",
       "I6     0\n",
       "I7     0\n",
       "I8    -1\n",
       "I9     0\n",
       "I10    0\n",
       "I11    1\n",
       "I12    0\n",
       "I13    0\n",
       "dtype: int64"
      ]
     },
     "execution_count": 12,
     "metadata": {},
     "output_type": "execute_result"
    }
   ],
   "source": [
    "mins"
   ]
  },
  {
   "cell_type": "markdown",
   "metadata": {},
   "source": [
    "**Non-Aggregated mins**:\n",
    "```\n",
    "I1     1\n",
    "I2     1\n",
    "I3     0\n",
    "I4     0\n",
    "I5     1\n",
    "I6     0\n",
    "I7     0\n",
    "I8    -1\n",
    "I9     0\n",
    "I10    0\n",
    "I11    1\n",
    "I12    0\n",
    "I13    0\n",
    "dtype: int64\n",
    "```"
   ]
  },
  {
   "cell_type": "code",
   "execution_count": 13,
   "metadata": {},
   "outputs": [
    {
     "data": {
      "text/plain": [
       "I1        65535\n",
       "I2         8000\n",
       "I3         4933\n",
       "I4       746810\n",
       "I5         8000\n",
       "I6        69472\n",
       "I7         5277\n",
       "I8       400947\n",
       "I9        16050\n",
       "I10          21\n",
       "I11         566\n",
       "I12    35081696\n",
       "I13       21843\n",
       "dtype: int64"
      ]
     },
     "execution_count": 13,
     "metadata": {},
     "output_type": "execute_result"
    }
   ],
   "source": [
    "maxes"
   ]
  },
  {
   "cell_type": "markdown",
   "metadata": {},
   "source": [
    "**Non-Aggregated maxes**:\n",
    "```\n",
    "I1        65535\n",
    "I2         8000\n",
    "I3         4933\n",
    "I4       746810\n",
    "I5         8000\n",
    "I6        69472\n",
    "I7         5277\n",
    "I8       400947\n",
    "I9        16050\n",
    "I10          21\n",
    "I11         566\n",
    "I12    35081696\n",
    "I13       21843\n",
    "dtype: int64\n",
    "```"
   ]
  },
  {
   "cell_type": "code",
   "execution_count": null,
   "metadata": {},
   "outputs": [],
   "source": []
  },
  {
   "cell_type": "code",
   "execution_count": null,
   "metadata": {},
   "outputs": [],
   "source": []
  }
 ],
 "metadata": {
  "kernelspec": {
   "display_name": "Python 3",
   "language": "python",
   "name": "python3"
  },
  "language_info": {
   "codemirror_mode": {
    "name": "ipython",
    "version": 3
   },
   "file_extension": ".py",
   "mimetype": "text/x-python",
   "name": "python",
   "nbconvert_exporter": "python",
   "pygments_lexer": "ipython3",
   "version": "3.7.3"
  }
 },
 "nbformat": 4,
 "nbformat_minor": 4
}
